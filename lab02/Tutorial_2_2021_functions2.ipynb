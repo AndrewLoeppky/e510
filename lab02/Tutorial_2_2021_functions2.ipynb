{
 "cells": [
  {
   "cell_type": "code",
   "execution_count": 1,
   "source": [
    "#NOTE: stepwise_selection function used from: \r\n",
    "#https://datascience.stackexchange.com/questions/24405/how-to-do-stepwise-regression-using-sklearn/24447#24447\r\n",
    "\r\n",
    "def stepwise_selection(X, y, \r\n",
    "                       initial_list=[], \r\n",
    "                       threshold_in=0.01, \r\n",
    "                       threshold_out = 0.05, \r\n",
    "                       verbose=True):\r\n",
    "    \r\n",
    "    \"\"\" Perform a forward-backward feature selection \r\n",
    "    based on p-value from statsmodels.api.OLS\r\n",
    "    Arguments:\r\n",
    "        X - pandas.DataFrame with candidate features\r\n",
    "        y - list-like with the target\r\n",
    "        initial_list - list of features to start with (column names of X)\r\n",
    "        threshold_in - include a feature if its p-value < threshold_in\r\n",
    "        threshold_out - exclude a feature if its p-value > threshold_out\r\n",
    "        verbose - whether to print the sequence of inclusions and exclusions\r\n",
    "    Returns: list of selected features \r\n",
    "    Always set threshold_in < threshold_out to avoid infinite looping.\r\n",
    "    See https://en.wikipedia.org/wiki/Stepwise_regression for the details\r\n",
    "    \"\"\"\r\n",
    "    \r\n",
    "    included = list(initial_list)\r\n",
    "    while True:\r\n",
    "        changed=False\r\n",
    "        # forward step\r\n",
    "        excluded = list(set(X.columns)-set(included))\r\n",
    "#         print(excluded)\r\n",
    "        new_pval = pd.Series(index=excluded)\r\n",
    "        for new_column in excluded:\r\n",
    "#             print(included, new_column)\r\n",
    "            model = sm.OLS(y, sm.add_constant(pd.DataFrame(X[included+[new_column]]))).fit()\r\n",
    "            new_pval[new_column] = model.pvalues[new_column]\r\n",
    "        best_pval = new_pval.min()\r\n",
    "        if best_pval < threshold_in:\r\n",
    "            best_feature = excluded[new_pval.argmin()]\r\n",
    "#             print(best_feature, included)\r\n",
    "            included.append(best_feature)\r\n",
    "            changed=True\r\n",
    "            if verbose:\r\n",
    "                print('Add  {:30} with p-value {:.6}'.format(best_feature, best_pval))\r\n",
    "\r\n",
    "        # backward step\r\n",
    "        model = sm.OLS(y, sm.add_constant(pd.DataFrame(X[included]))).fit()\r\n",
    "        # use all coefs except intercept\r\n",
    "        pvalues = model.pvalues.iloc[1:]\r\n",
    "        worst_pval = pvalues.max() # null if pvalues is empty\r\n",
    "        if worst_pval > threshold_out:\r\n",
    "            changed=True\r\n",
    "            worst_feature = pvalues.argmax()\r\n",
    "            included.remove(included[worst_feature])\r\n",
    "            if verbose:\r\n",
    "                print('Drop {:30} with p-value {:.6}'.format(X.columns[worst_feature], worst_pval))\r\n",
    "        if not changed:\r\n",
    "            break\r\n",
    "    return included"
   ],
   "outputs": [],
   "metadata": {}
  },
  {
   "cell_type": "code",
   "execution_count": null,
   "source": [],
   "outputs": [],
   "metadata": {}
  }
 ],
 "metadata": {
  "kernelspec": {
   "display_name": "Python 3 (ipykernel)",
   "language": "python",
   "name": "python3"
  },
  "language_info": {
   "codemirror_mode": {
    "name": "ipython",
    "version": 3
   },
   "file_extension": ".py",
   "mimetype": "text/x-python",
   "name": "python",
   "nbconvert_exporter": "python",
   "pygments_lexer": "ipython3",
   "version": "3.9.7"
  }
 },
 "nbformat": 4,
 "nbformat_minor": 4
}