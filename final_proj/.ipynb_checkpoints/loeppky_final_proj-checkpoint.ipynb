{
 "cells": [
  {
   "cell_type": "markdown",
   "id": "d498c152",
   "metadata": {},
   "source": [
    "# Wildfire Smoke Controls on Gross Primary Production in Central Canada"
   ]
  },
  {
   "cell_type": "code",
   "execution_count": 1,
   "id": "8e3b0496",
   "metadata": {},
   "outputs": [],
   "source": [
    "import pandas as pd\n",
    "import matplotlib.pyplot as plt\n",
    "import numpy as np\n",
    "from scipy.stats.stats import pearsonr\n",
    "\n",
    "from sklearn.decomposition import PCA\n",
    "from sklearn.linear_model import LinearRegression\n",
    "\n",
    "# get Sam's stepwise selection function\n",
    "import statsmodels.api as sm\n",
    "%run ../lab02/Tutorial_2_2021_functions2.ipynb\n",
    "\n",
    "# show full dataframes\n",
    "pd.set_option('max_columns', None)"
   ]
  },
  {
   "cell_type": "code",
   "execution_count": 2,
   "id": "1ee9bc97",
   "metadata": {},
   "outputs": [],
   "source": [
    "# get data\n",
    "data_in = pd.read_csv(\"drf_timeseries.csv\", parse_dates=True, index_col=0)"
   ]
  },
  {
   "cell_type": "code",
   "execution_count": 3,
   "id": "3a09d938",
   "metadata": {},
   "outputs": [],
   "source": [
    "# select just the growing/wildfire season (may-sept, inclusive)\n",
    "#data_in[\"datetime\"] = pd.to_datetime(data_in[\"datetime\"])\n",
    "growing_season = pd.DataFrame()\n",
    "for month in [5,6,7,8,9]:\n",
    "    growing_season = growing_season.append(data_in[pd.to_datetime(data_in['datetime']).dt.month == month])"
   ]
  },
  {
   "cell_type": "markdown",
   "id": "19bb7d23",
   "metadata": {},
   "source": [
    "## Find which measurements have the most complete data"
   ]
  },
  {
   "cell_type": "code",
   "execution_count": 4,
   "id": "57f2ef07",
   "metadata": {},
   "outputs": [],
   "source": [
    "# check data for completeness\n",
    "def check_complete(data_in):\n",
    "    \"\"\"\n",
    "    Prints out the percentage of non-NaN values in a dataset\n",
    "    \"\"\"\n",
    "    data_len = np.shape(data_in)[0]\n",
    "    for key in data_in.keys():\n",
    "        if key != \"datetime\":\n",
    "            not_nans = np.shape((data_in[np.isnan(data_in[key]) == False]))[0]\n",
    "            completeness = not_nans / data_len * 100\n",
    "            print(f\"{key}:  {round(completeness,2)} %\")\n",
    " \n",
    "def keep_complete(data_in, thres):\n",
    "    \"\"\"\n",
    "    returns a dataframe that contains a percentage of non-NaNs above\n",
    "    a specified threshhold\n",
    "    \"\"\"\n",
    "    data_out = pd.DataFrame()\n",
    "    data_out[\"datetime\"] = data_in[\"datetime\"]\n",
    "    data_len = np.shape(data_in)[0]\n",
    "    for key in data_in.keys():\n",
    "        if key != \"datetime\":\n",
    "            not_nans = np.shape((data_in[np.isnan(data_in[key]) == False]))[0]\n",
    "            completeness = not_nans / data_len * 100\n",
    "            if completeness >= thres:\n",
    "                data_out[key] = data_in[key]\n",
    "    return data_out"
   ]
  },
  {
   "cell_type": "code",
   "execution_count": 5,
   "id": "21dded26",
   "metadata": {},
   "outputs": [
    {
     "name": "stdout",
     "output_type": "stream",
     "text": [
      "smoke:  98.84 %\n",
      "AOD_1640nm:  5.23 %\n",
      "AOD_1020nm:  6.23 %\n",
      "AOD_870nm:  6.45 %\n",
      "AOD_865nm:  0.0 %\n",
      "AOD_779nm:  0.0 %\n",
      "AOD_675nm:  6.44 %\n",
      "AOD_667nm:  0.0 %\n",
      "AOD_620nm:  0.0 %\n",
      "AOD_560nm:  0.0 %\n",
      "AOD_555nm:  0.0 %\n",
      "AOD_551nm:  0.0 %\n",
      "AOD_532nm:  0.0 %\n",
      "AOD_531nm:  0.0 %\n",
      "AOD_510nm:  0.0 %\n",
      "AOD_500nm:  5.51 %\n",
      "AOD_490nm:  0.0 %\n",
      "AOD_443nm:  0.0 %\n",
      "AOD_440nm:  6.32 %\n",
      "AOD_412nm:  0.0 %\n",
      "AOD_400nm:  0.0 %\n",
      "AOD_380nm:  6.43 %\n",
      "AOD_340nm:  6.38 %\n",
      "Precipitable_Water(cm):  6.44 %\n",
      "AOD_681nm:  0.0 %\n",
      "AOD_709nm:  0.0 %\n",
      "Ozone(Dobson):  6.45 %\n",
      "NO2(Dobson):  6.45 %\n",
      "USTAR:  35.13 %\n",
      "TA:  36.0 %\n",
      "WD:  36.01 %\n",
      "WS:  36.02 %\n",
      "NEE_PI:  26.2 %\n",
      "FC:  34.41 %\n",
      "SC:  34.61 %\n",
      "H:  34.89 %\n",
      "SH:  0.0 %\n",
      "LE:  34.41 %\n",
      "SLE:  0.0 %\n",
      "G:  0.0 %\n",
      "TS_1:  36.02 %\n",
      "TS_2:  36.02 %\n",
      "P:  36.63 %\n",
      "RH:  35.81 %\n",
      "PA:  36.6 %\n",
      "CO2_1:  34.64 %\n",
      "CO2_2:  27.2 %\n",
      "VPD_PI:  35.81 %\n",
      "SWC_1:  9.05 %\n",
      "SWC_2:  9.05 %\n",
      "NETRAD:  35.51 %\n",
      "PPFD_IN:  36.57 %\n",
      "SW_IN:  35.65 %\n",
      "SW_DIF:  0.0 %\n",
      "PPFD_OUT:  34.95 %\n",
      "SW_OUT:  35.49 %\n",
      "LW_IN:  36.0 %\n",
      "LW_OUT:  35.93 %\n",
      "H2O:  34.64 %\n",
      "RECO_PI:  4.32 %\n",
      "APAR:  0.0 %\n",
      "PPFD_DIF:  34.87 %\n",
      "FAPAR:  0.0 %\n",
      "ZL:  0.0 %\n"
     ]
    }
   ],
   "source": [
    "check_complete(growing_season)"
   ]
  },
  {
   "cell_type": "markdown",
   "id": "5191c045",
   "metadata": {},
   "source": [
    "Pretty dismal. We need the AOD data, so set a cutoff at 5%. We can hopefully interpolate the rest"
   ]
  },
  {
   "cell_type": "code",
   "execution_count": 7,
   "id": "d89e2a76",
   "metadata": {},
   "outputs": [
    {
     "name": "stdout",
     "output_type": "stream",
     "text": [
      "smoke:  98.84 %\n",
      "AOD_1640nm:  5.23 %\n",
      "AOD_1020nm:  6.23 %\n",
      "AOD_870nm:  6.45 %\n",
      "AOD_675nm:  6.44 %\n",
      "AOD_500nm:  5.51 %\n",
      "AOD_440nm:  6.32 %\n",
      "AOD_380nm:  6.43 %\n",
      "AOD_340nm:  6.38 %\n",
      "Precipitable_Water(cm):  6.44 %\n",
      "Ozone(Dobson):  6.45 %\n",
      "NO2(Dobson):  6.45 %\n",
      "USTAR:  35.13 %\n",
      "TA:  36.0 %\n",
      "WD:  36.01 %\n",
      "WS:  36.02 %\n",
      "NEE_PI:  26.2 %\n",
      "FC:  34.41 %\n",
      "SC:  34.61 %\n",
      "H:  34.89 %\n",
      "LE:  34.41 %\n",
      "TS_1:  36.02 %\n",
      "TS_2:  36.02 %\n",
      "P:  36.63 %\n",
      "RH:  35.81 %\n",
      "PA:  36.6 %\n",
      "CO2_1:  34.64 %\n",
      "CO2_2:  27.2 %\n",
      "VPD_PI:  35.81 %\n",
      "SWC_1:  9.05 %\n",
      "SWC_2:  9.05 %\n",
      "NETRAD:  35.51 %\n",
      "PPFD_IN:  36.57 %\n",
      "SW_IN:  35.65 %\n",
      "PPFD_OUT:  34.95 %\n",
      "SW_OUT:  35.49 %\n",
      "LW_IN:  36.0 %\n",
      "LW_OUT:  35.93 %\n",
      "H2O:  34.64 %\n",
      "PPFD_DIF:  34.87 %\n"
     ]
    }
   ],
   "source": [
    "comp_data = keep_complete(growing_season, 5.0)\n",
    "check_complete(comp_data) # see if that worked"
   ]
  },
  {
   "cell_type": "code",
   "execution_count": 8,
   "id": "bde5052f",
   "metadata": {},
   "outputs": [
    {
     "ename": "NameError",
     "evalue": "name 'data' is not defined",
     "output_type": "error",
     "traceback": [
      "\u001b[1;31m---------------------------------------------------------------------------\u001b[0m",
      "\u001b[1;31mNameError\u001b[0m                                 Traceback (most recent call last)",
      "\u001b[1;32m~\\AppData\\Local\\Temp/ipykernel_10016/1100675434.py\u001b[0m in \u001b[0;36m<module>\u001b[1;34m\u001b[0m\n\u001b[0;32m      1\u001b[0m \u001b[1;31m# get all the AOD\u001b[0m\u001b[1;33m\u001b[0m\u001b[1;33m\u001b[0m\u001b[0m\n\u001b[0;32m      2\u001b[0m \u001b[0maod_list\u001b[0m \u001b[1;33m=\u001b[0m \u001b[1;33m[\u001b[0m\u001b[1;33m]\u001b[0m\u001b[1;33m\u001b[0m\u001b[1;33m\u001b[0m\u001b[0m\n\u001b[1;32m----> 3\u001b[1;33m \u001b[1;32mfor\u001b[0m \u001b[0mkey\u001b[0m \u001b[1;32min\u001b[0m \u001b[0mdata\u001b[0m\u001b[1;33m.\u001b[0m\u001b[0mkeys\u001b[0m\u001b[1;33m(\u001b[0m\u001b[1;33m)\u001b[0m\u001b[1;33m:\u001b[0m\u001b[1;33m\u001b[0m\u001b[1;33m\u001b[0m\u001b[0m\n\u001b[0m\u001b[0;32m      4\u001b[0m     \u001b[1;32mif\u001b[0m \u001b[1;34m\"AOD\"\u001b[0m \u001b[1;32min\u001b[0m \u001b[0mkey\u001b[0m\u001b[1;33m:\u001b[0m\u001b[1;33m\u001b[0m\u001b[1;33m\u001b[0m\u001b[0m\n\u001b[0;32m      5\u001b[0m         \u001b[0maod_list\u001b[0m\u001b[1;33m.\u001b[0m\u001b[0mappend\u001b[0m\u001b[1;33m(\u001b[0m\u001b[0mkey\u001b[0m\u001b[1;33m)\u001b[0m\u001b[1;33m\u001b[0m\u001b[1;33m\u001b[0m\u001b[0m\n",
      "\u001b[1;31mNameError\u001b[0m: name 'data' is not defined"
     ]
    }
   ],
   "source": [
    "# get all the AOD \n",
    "aod_list = []\n",
    "for key in data.keys():\n",
    "    if \"AOD\" in key:\n",
    "        aod_list.append(key)\n",
    "        print(key)"
   ]
  },
  {
   "cell_type": "code",
   "execution_count": null,
   "id": "9e0e069f",
   "metadata": {},
   "outputs": [],
   "source": [
    "data.plot(\"datetime\", aod_list, alpha=0.5);"
   ]
  },
  {
   "cell_type": "code",
   "execution_count": null,
   "id": "390c3a14",
   "metadata": {},
   "outputs": [],
   "source": [
    "# interpolation method I settled on (subject to change). Try messing around with this, \n",
    "# lots of methods available, most arent appropriate\n",
    "data[\"AOD_500nm\"].interpolate(method='pchip', limit=500, limit_direction='both').plot();"
   ]
  },
  {
   "cell_type": "code",
   "execution_count": null,
   "id": "e597e3cf",
   "metadata": {},
   "outputs": [],
   "source": [
    "# now apply the interpolation scheme to all AOD sets\n",
    "for key in aod_list:\n",
    "    data[key] = data[\"AOD_500nm\"].interpolate(method='pchip', limit=500, limit_direction='both')"
   ]
  },
  {
   "cell_type": "code",
   "execution_count": null,
   "id": "0bb5833d",
   "metadata": {},
   "outputs": [],
   "source": [
    "# Blanket interpolate all data using the same scheme (this is a bad idea)\n",
    "data_interp = data.interpolate(method='linear')#.dropna()\n",
    "data_interp.plot()"
   ]
  },
  {
   "cell_type": "code",
   "execution_count": null,
   "id": "92a99503",
   "metadata": {},
   "outputs": [],
   "source": [
    "# after we finish messing about with interpolations, drop all rows that still have missing data\n",
    "data_complete = data.dropna()\n",
    "data_complete"
   ]
  },
  {
   "cell_type": "markdown",
   "id": "828b072b",
   "metadata": {},
   "source": [
    "## Part 2: Try PCA "
   ]
  },
  {
   "cell_type": "code",
   "execution_count": null,
   "id": "c8a2dc4f",
   "metadata": {},
   "outputs": [],
   "source": [
    "data = data_complete.drop(\"datetime\", axis=1)\n",
    "data = data_interp#.drop(\"datetime\", axis=1)\n",
    "\n",
    "n_modes = np.min(np.shape(data))\n",
    "pca = PCA(n_components = n_modes)\n",
    "PCs = pca.fit_transform(data)\n",
    "eigvecs = pca.components_\n",
    "fracVar = pca.explained_variance_ratio_"
   ]
  },
  {
   "cell_type": "code",
   "execution_count": null,
   "id": "ccaddfd7",
   "metadata": {},
   "outputs": [],
   "source": [
    "#plot fraction of variance explained by each mode\n",
    "plt.figure(figsize=(10,5))\n",
    "\n",
    "plt.subplot(1,2,1)\n",
    "plt.scatter(range(len(fracVar)),fracVar)\n",
    "plt.xlabel('Mode Number')\n",
    "plt.ylabel('Fraction Variance Explained')\n",
    "plt.title('Variance Explained by All Modes')\n",
    "\n",
    "plt.subplot(1,2,2)\n",
    "n_modes_show = 10\n",
    "plt.scatter(range(n_modes_show),fracVar[:n_modes_show])\n",
    "plt.xlabel('Mode Number')\n",
    "plt.ylabel('Fraction Variance Explained')\n",
    "plt.title('Variance Explained by First ' + str(n_modes_show) + ' Modes')\n",
    "\n",
    "plt.tight_layout()\n",
    "\n",
    "plt.show()"
   ]
  },
  {
   "cell_type": "code",
   "execution_count": null,
   "id": "1e97365d",
   "metadata": {},
   "outputs": [],
   "source": [
    "plt.plot(PCs[...,:4]);"
   ]
  },
  {
   "cell_type": "markdown",
   "id": "0b8c65eb",
   "metadata": {},
   "source": [
    "This works about as we expect, the vast majority is explained by the first few modes. Now, what are the biggest contributors to these modes?\n",
    "\n",
    "## Stepwise Linear Regression\n",
    "\n",
    "Perform stepwise linear regression on the PCs to create a predictive model with inputs\n",
    "\n",
    "**PCs $\\rightarrow$ CO2 Fluxes**\n",
    "\n",
    "or, if we do rotated PCA:\n",
    "\n",
    "**smoke, PCs $\\rightarrow$ CO2 Fluxes**"
   ]
  },
  {
   "cell_type": "code",
   "execution_count": null,
   "id": "f19fca48",
   "metadata": {},
   "outputs": [],
   "source": [
    "# assign predictors and predictands\n",
    "X = pd.DataFrame(PCs)\n",
    "Y = data[\"FC\"]\n",
    "\n",
    "print(X.shape)\n",
    "print(Y.shape)\n",
    "# do stepwise regression\n",
    "#result = stepwise_selection(X, Y)\n",
    "\n",
    "#print('resulting features:')\n",
    "#print(result)"
   ]
  },
  {
   "cell_type": "code",
   "execution_count": null,
   "id": "280732d8",
   "metadata": {},
   "outputs": [],
   "source": [
    "plt.plot(eigvecs[0], label=data.columns[0])\n",
    "plt.legend()"
   ]
  },
  {
   "cell_type": "markdown",
   "id": "a2261fda",
   "metadata": {},
   "source": [
    "## To Do\n",
    "\n",
    "- Interpolate all columns, eyeball-optimizing between coverage and faithful interpolated values\n",
    "- Figure out how to represent smoke as input and CO2 flux data as output\n",
    "- Try it again with rotated PCA\n",
    "- Write up the presentation\n",
    "\n",
    "\n",
    "- find characteristic patterns after grouping by smoke level?"
   ]
  }
 ],
 "metadata": {
  "kernelspec": {
   "display_name": "Python 3 (ipykernel)",
   "language": "python",
   "name": "python3"
  },
  "language_info": {
   "codemirror_mode": {
    "name": "ipython",
    "version": 3
   },
   "file_extension": ".py",
   "mimetype": "text/x-python",
   "name": "python",
   "nbconvert_exporter": "python",
   "pygments_lexer": "ipython3",
   "version": "3.9.7"
  }
 },
 "nbformat": 4,
 "nbformat_minor": 5
}
